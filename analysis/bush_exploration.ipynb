{
 "cells": [
  {
   "cell_type": "markdown",
   "metadata": {},
   "source": [
    "# Merger bushes\n",
    "Script to explore properties of merger trees for which there may be more than one descendant halo.\n",
    "Note that precludes the use of simple pointers such as nextSibling to search over past trees - because more than one descendant may share the same halo.  Instead, as in the output from ahf_MULTIDVIR, each halo must keep its own list of progenitors."
   ]
  },
  {
   "cell_type": "markdown",
   "metadata": {},
   "source": [
    "## Preliminaries\n",
    "This section reads in the data from the ahf_MULTIDVIR output file\n",
    "and does some simple sanity checks."
   ]
  },
  {
   "cell_type": "code",
   "execution_count": 1,
   "metadata": {
    "collapsed": true
   },
   "outputs": [],
   "source": [
    "# Imports.\n",
    "import h5py\n",
    "import numpy as np"
   ]
  },
  {
   "cell_type": "code",
   "execution_count": 2,
   "metadata": {
    "collapsed": true
   },
   "outputs": [],
   "source": [
    "# Parameters.\n",
    "nSnap=62"
   ]
  },
  {
   "cell_type": "code",
   "execution_count": 3,
   "metadata": {
    "collapsed": true
   },
   "outputs": [],
   "source": [
    "# Open HDF5 file, if not already loaded\n",
    "try:\n",
    "    fin\n",
    "except:\n",
    "    fin=h5py.File('/Users/petert/data/Sussing/network.hdf5','r')"
   ]
  },
  {
   "cell_type": "code",
   "execution_count": 4,
   "metadata": {
    "collapsed": true
   },
   "outputs": [],
   "source": [
    "# Read in existing data about halos\n",
    "HalosInSnap=fin['HaloCatalogue_0/HalosInSnap']\n",
    "nHaloSnap=HalosInSnap[:]\n",
    "nHalo=sum(nHaloSnap)"
   ]
  },
  {
   "cell_type": "code",
   "execution_count": 6,
   "metadata": {
    "collapsed": false
   },
   "outputs": [],
   "source": [
    "# Read in existing data about Descendants\n",
    "NHalosDescendant=fin['Descendant_0/NHalosDescendant']\n",
    "nDesc=NHalosDescendant[:] # Number of descendants for each halo.\n",
    "HalosDescendant=fin['Descendant_0/HalosDescendant']\n",
    "haloID=HalosDescendant['haloID']\n",
    "share=HalosDescendant['share']\n",
    "# Sanity checks\n",
    "assert nHalo == len(nDesc)\n",
    "assert sum(nDesc) == len(haloID)"
   ]
  },
  {
   "cell_type": "code",
   "execution_count": 7,
   "metadata": {
    "collapsed": true
   },
   "outputs": [],
   "source": [
    "# ahf_MULTIDVIR labels halos from 0 within each snap.\n",
    "# To identify the location within the whole array, \n",
    "# we need to know the offsets of each snap.\n",
    "# nHaloSnapCum provides the cumulative halo count needed to do that.\n",
    "nHaloSnapCum=np.zeros(nSnap,dtype=np.int32)\n",
    "nHaloSnapCum[0]=nHaloSnap[0]\n",
    "for iSnap in range(1,nSnap): \n",
    "    nHaloSnapCum[iSnap]=nHaloSnapCum[iSnap-1]+nHaloSnap[iSnap]\n",
    "assert nHaloSnapCum[nSnap-1] == nHalo"
   ]
  },
  {
   "cell_type": "markdown",
   "metadata": {},
   "source": [
    "## Meaning of 'share' \n",
    "I want to test what \"share\" means.  I presume that it is the number\n",
    "of particles that a halo and its descendant have in common.\n",
    "This section tests that idea."
   ]
  },
  {
   "cell_type": "code",
   "execution_count": null,
   "metadata": {
    "collapsed": true
   },
   "outputs": [],
   "source": []
  }
 ],
 "metadata": {
  "kernelspec": {
   "display_name": "Python 3",
   "language": "python",
   "name": "python3"
  },
  "language_info": {
   "codemirror_mode": {
    "name": "ipython",
    "version": 3
   },
   "file_extension": ".py",
   "mimetype": "text/x-python",
   "name": "python",
   "nbconvert_exporter": "python",
   "pygments_lexer": "ipython3",
   "version": "3.4.4"
  }
 },
 "nbformat": 4,
 "nbformat_minor": 0
}
