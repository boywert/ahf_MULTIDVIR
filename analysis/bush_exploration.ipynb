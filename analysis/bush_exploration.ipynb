{
 "cells": [
  {
   "cell_type": "markdown",
   "metadata": {},
   "source": [
    "# Merger bushes\n",
    "Script to explore properties of merger trees for which there may be more than one descendant halo.\n",
    "Note that precludes the use of simple pointers such as nextSibling to search over past trees - because more than one descendant may share the same halo.  Instead, as in the output from ahf_MULTIDVIR, each halo must keep its own list of progenitors."
   ]
  },
  {
   "cell_type": "markdown",
   "metadata": {},
   "source": [
    "## Preliminaries\n",
    "This section reads in the data from the ahf_MULTIDVIR output file\n",
    "and does some simple sanity checks."
   ]
  },
  {
   "cell_type": "code",
   "execution_count": 14,
   "metadata": {
    "collapsed": true
   },
   "outputs": [],
   "source": [
    "# Imports.\n",
    "import h5py\n",
    "import numpy as np\n",
    "import matplotlib.pyplot as plt\n",
    "%matplotlib inline"
   ]
  },
  {
   "cell_type": "code",
   "execution_count": 29,
   "metadata": {
    "collapsed": true
   },
   "outputs": [],
   "source": [
    "# Parameters.\n",
    "nSnap=62\n",
    "partMass=9.36393128e+08"
   ]
  },
  {
   "cell_type": "code",
   "execution_count": 3,
   "metadata": {
    "collapsed": true
   },
   "outputs": [],
   "source": [
    "# Open HDF5 file, if not already loaded\n",
    "try:\n",
    "    fin\n",
    "except:\n",
    "    fin=h5py.File('/Users/petert/data/Sussing/network.hdf5','r')"
   ]
  },
  {
   "cell_type": "code",
   "execution_count": 10,
   "metadata": {
    "collapsed": true
   },
   "outputs": [],
   "source": [
    "# Read in existing data about halos\n",
    "Halos=fin['HaloCatalogue_0/Halos']\n",
    "Mass=Halos['Mass']\n",
    "HalosInSnap=fin['HaloCatalogue_0/HalosInSnap']\n",
    "nHaloSnap=HalosInSnap[:]\n",
    "nHalo=sum(nHaloSnap)"
   ]
  },
  {
   "cell_type": "code",
   "execution_count": 11,
   "metadata": {
    "collapsed": false
   },
   "outputs": [],
   "source": [
    "# Read in existing data about Descendants\n",
    "NHalosDescendant=fin['Descendant_0/NHalosDescendant']\n",
    "nDesc=NHalosDescendant[:] # Number of descendants for each halo.\n",
    "HalosDescendant=fin['Descendant_0/HalosDescendant']\n",
    "haloID=HalosDescendant['haloID']\n",
    "share=HalosDescendant['share']\n",
    "# Sanity checks\n",
    "assert nHalo == len(nDesc)\n",
    "assert sum(nDesc) == len(haloID)"
   ]
  },
  {
   "cell_type": "code",
   "execution_count": 12,
   "metadata": {
    "collapsed": true
   },
   "outputs": [],
   "source": [
    "# ahf_MULTIDVIR labels halos from 0 within each snap.\n",
    "# To identify the location within the whole array, \n",
    "# we need to know the offsets of each snap.\n",
    "# nHaloSnapCum provides the cumulative halo count needed to do that.\n",
    "nHaloSnapCum=np.zeros(nSnap,dtype=np.int32)\n",
    "nHaloSnapCum[0]=nHaloSnap[0]\n",
    "for iSnap in range(1,nSnap): \n",
    "    nHaloSnapCum[iSnap]=nHaloSnapCum[iSnap-1]+nHaloSnap[iSnap]\n",
    "assert nHaloSnapCum[nSnap-1] == nHalo"
   ]
  },
  {
   "cell_type": "markdown",
   "metadata": {},
   "source": [
    "## Meaning of 'share' \n",
    "I want to test what \"share\" means.  I presume that it is the number\n",
    "of particles that a halo and its descendant have in common.\n",
    "This section tests that idea.\n",
    "\n",
    "### Mass shared with descendants\n",
    "The most obvious way to do that is to compare the total \"share\" values for each halo\n",
    "with its total mass.  Some particles may be lost to the system, but the most common\n",
    "outcome would be for the two totals to be proportional.\n"
   ]
  },
  {
   "cell_type": "code",
   "execution_count": 36,
   "metadata": {
    "collapsed": false
   },
   "outputs": [
    {
     "name": "stdout",
     "output_type": "stream",
     "text": [
      "\n"
     ]
    },
    {
     "data": {
      "image/png": "[encoded data removed]",
      "text/plain": [
       "<matplotlib.figure.Figure at 0x11d5d67b8>"
      ]
     },
     "metadata": {},
     "output_type": "display_data"
    }
   ],
   "source": [
    "# Array to hold sum of 'share'd particles\n",
    "shareTot=np.zeros(nHalo,dtype=np.int32)\n",
    "# Loop over halos evaluating sum\n",
    "iDescCum=0\n",
    "for iHalo in range(nHalo):\n",
    "    for iDesc in range(nDesc[iHalo]):\n",
    "        shareTot[iHalo]+=share[iDescCum]\n",
    "        iDescCum+=1\n",
    "# Check that we used all entires in share exactly once:\n",
    "assert iDescCum==len(share)\n",
    "# In the figure that follows most points should lie on a horizontal line,\n",
    "# with some points scattered low and none high.\n",
    "plt.figure(1)\n",
    "plt.semilogx(Mass,partMass*shareTot/Mass,',',label='nDesc>1')\n",
    "plt.xlabel(r'$M_\\mathrm{Halo}/M_\\odot$')\n",
    "plt.ylabel(r'$\\Sigma$share $M_\\mathrm{Particle}/M_\\mathrm{Halo}$')\n",
    "index=np.where(nDesc==1)\n",
    "plt.semilogx(Mass[index],partMass*shareTot[index]/Mass[index],',',label='nDesc=1')\n",
    "index=np.where(nDesc==0)\n",
    "plt.semilogx(Mass[index],partMass*shareTot[index]/Mass[index],',',label='nDesc=0')\n",
    "plt.legend()\n",
    "print()"
   ]
  },
  {
   "cell_type": "code",
   "execution_count": null,
   "metadata": {
    "collapsed": true
   },
   "outputs": [],
   "source": []
  }
 ],
 "metadata": {
  "kernelspec": {
   "display_name": "Python 3",
   "language": "python",
   "name": "python3"
  },
  "language_info": {
   "codemirror_mode": {
    "name": "ipython",
    "version": 3
   },
   "file_extension": ".py",
   "mimetype": "text/x-python",
   "name": "python",
   "nbconvert_exporter": "python",
   "pygments_lexer": "ipython3",
   "version": "3.4.4"
  }
 },
 "nbformat": 4,
 "nbformat_minor": 0
}
